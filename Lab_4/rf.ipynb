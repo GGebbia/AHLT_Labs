{
 "cells": [
  {
   "cell_type": "code",
   "execution_count": 118,
   "metadata": {},
   "outputs": [],
   "source": [
    "from sklearn.ensemble import RandomForestClassifier\n",
    "import itertools\n",
    "import numpy as np\n",
    "import pandas as pd"
   ]
  },
  {
   "cell_type": "code",
   "execution_count": 13,
   "metadata": {},
   "outputs": [],
   "source": [
    "def split_data(features):\n",
    "    \"\"\"\n",
    "    Receive a list of featured sentences splitted by words and split it into samples and labels.\n",
    "\n",
    "    Parameters:\n",
    "    word_features(list): List of feature words. There is an empty element between sentences in order to split each one.\n",
    "\n",
    "    Returns:\n",
    "    X_samples(list): List of feature words missing the label of the word.\n",
    "    Y_labels(list): List of labels for each word.\n",
    "    \"\"\"\n",
    "\n",
    "    X_samples = []\n",
    "    Y_labels = []\n",
    "\n",
    "    for feat in features:\n",
    "        feat = feat.split(\" \")\n",
    "        Y_labels.append(feat[0])\n",
    "        X_samples.append(feat[1:])\n",
    "\n",
    "    return X_samples, Y_labels\n",
    "\n",
    "\n",
    "def output_predicted_entities(Y_pred, filename):\n",
    "    \"\"\"\n",
    "    Receives the predicted list of labels by the ML model and a filename of the detailed word features and construct predicted.txt file\n",
    "    with the intrinsic details of each word, id, offsets and the predicted label.\n",
    "\n",
    "    Parameters:\n",
    "    Y_pred(list): List of list of predicted labels for each word.\n",
    "    filename(str): filename to read the \"feats.dat\" data of the testing dataset\n",
    "\n",
    "    Returns:\n",
    "\n",
    "    \"\"\"\n",
    "\n",
    "    Y_pred_flatten = [el for line in Y_pred for el in line]\n",
    "    detailed_word_features = open(filename).read().split(\"\\n\")[:-1]\n",
    "\n",
    "    for label, detailed_feats in zip(Y_pred_flatten, detailed_word_features):\n",
    "        _id, e1_id, e2_id = detailed_feats.split(\" \")[0:3]\n",
    "        if label == \"null\":\n",
    "            interaction = \"0\"\n",
    "        else:\n",
    "            interaction = \"1\"\n",
    "        line = [_id, e1_id, e2_id, interaction, label]\n",
    "        outputfile.write(\"|\".join(line) + \"\\n\")\n",
    "        \n",
    "def evaluate(inputdir, outputfile):\n",
    "    \"\"\"\n",
    "    Receives an input directory and the outputfile to evaluate the predicted labels with the evaluateNER.jar program.\n",
    "\n",
    "    Parameters:\n",
    "    inputdir(str):\n",
    "    outputfile(str):\n",
    "\n",
    "    Returns:\n",
    "\n",
    "    \"\"\"\n",
    "\n",
    "    os.system(\"java -jar eval/evaluateDDI.jar \" + inputdir + \" \" + outputfile)\n"
   ]
  },
  {
   "cell_type": "code",
   "execution_count": 147,
   "metadata": {},
   "outputs": [],
   "source": [
    "def transform_feature_vector_to_dataset(feature_vectors_train, feature_vectors_test):\n",
    "    flatten_X_samples = list(itertools.chain(*feature_vectors_train))\n",
    "    feature_names = list(set(flatten_X_samples))[1:]\n",
    "    X_train = np.zeros((len(feature_vectors_train), len(feature_names)))\n",
    "    X_test = np.zeros((len(feature_vectors_test), len(feature_names)))\n",
    "    for i, sample in enumerate(feature_vectors_train):\n",
    "        for j, feature_name in enumerate(feature_names):\n",
    "            if feature_name in sample:\n",
    "                X_train[i,j] = 1\n",
    "    \n",
    "    for i, sample in enumerate(feature_vectors_test):\n",
    "        for j, feature_name in enumerate(feature_names):\n",
    "            if feature_name in sample:\n",
    "                X_test[i,j] = 1\n",
    "    return X_train, X_test\n",
    "\n",
    "def process_feature_vectors(train_feature_vectors, test_feature_vectors):\n",
    "    X_train, Y_train = split_data(train_feature_vectors)\n",
    "    X_test, Y_test = split_data(test_feature_vectors)\n",
    "    \n",
    "    new_X_train, new_X_test = transform_feature_vector_to_dataset(X_train, X_test)\n",
    "    new_X_train, new_X_test = process_dataset_to_dataframe(new_X_train, new_X_test)\n",
    "    return new_X_train, Y_train, new_X_test, Y_test"
   ]
  },
  {
   "cell_type": "code",
   "execution_count": 148,
   "metadata": {},
   "outputs": [],
   "source": [
    "def process_dataset_to_dataframe(X_train, X_test):\n",
    "    df_train = pd.DataFrame(X_train)\n",
    "    df_test = pd.DataFrame(X_test)\n",
    "    \n",
    "    criteria_train = df_train.sum(axis=0) >= 50\n",
    "    criteria_test = df_test.sum(axis=0) >= 50\n",
    "    \n",
    "    df_train = df_train.loc[:,criteria_train]\n",
    "    df_test = df_test.loc[:, criteria_test]\n",
    "    return df_train, df_test"
   ]
  },
  {
   "cell_type": "code",
   "execution_count": 152,
   "metadata": {},
   "outputs": [],
   "source": [
    "### MAIN VARIABLES\n",
    "# train_filename = os.path.join(args.train, \"megam.dat\")\n",
    "# test_filename = os.path.join(args.test, \"megam.dat\")\n",
    "# fulltest_filename = os.path.join(args.test, \"feats.dat\")\n",
    "\n",
    "train_filename = \"./extracted_features/Train/megam.dat\"\n",
    "test_filename = \"./extracted_features/Devel/megam.dat\"\n",
    "fulltest_filename = \"./extracted_features/Devel/feats.dat\"\n",
    "\n",
    "# _type represents the if it has internal or external knowledge\n",
    "# _type = args.test.split(\"/\")[-2]\n",
    "# inputdir = os.path.join(\"data\", args.test.split(\"/\")[-1])\n",
    "\n",
    "# If outputdir does not exist, we safely create it\n",
    "# outputdir = \"./\"\n",
    "# if not os.path.exists(outputdir):\n",
    "#    os.makedirs(outputdir)\n",
    "\n",
    "\n",
    "output_filename = \"./predicted.txt\"\n",
    "\n",
    "\n",
    "train_feat_vects = open(train_filename, \"r\").read().split(\"\\n\")[:-1]\n",
    "test_feat_vects = open(test_filename, \"r\").read().split(\"\\n\")[:-1]\n",
    "\n",
    "X_train, Y_train, X_test, Y_test = process_feature_vectors(train_feat_vects, test_feat_vects)"
   ]
  },
  {
   "cell_type": "code",
   "execution_count": 153,
   "metadata": {},
   "outputs": [
    {
     "ename": "ValueError",
     "evalue": "Number of features of the model must match the input. Model n_features is 117 and input n_features is 51 ",
     "output_type": "error",
     "traceback": [
      "\u001b[0;31m---------------------------------------------------------------------------\u001b[0m",
      "\u001b[0;31mValueError\u001b[0m                                Traceback (most recent call last)",
      "\u001b[0;32m<ipython-input-153-85cfc0f98e8e>\u001b[0m in \u001b[0;36m<module>\u001b[0;34m()\u001b[0m\n\u001b[1;32m      1\u001b[0m \u001b[0mclf\u001b[0m \u001b[0;34m=\u001b[0m \u001b[0mRandomForestClassifier\u001b[0m\u001b[0;34m(\u001b[0m\u001b[0;34m)\u001b[0m\u001b[0;34m\u001b[0m\u001b[0m\n\u001b[1;32m      2\u001b[0m \u001b[0mclf\u001b[0m\u001b[0;34m.\u001b[0m\u001b[0mfit\u001b[0m\u001b[0;34m(\u001b[0m\u001b[0mX_train\u001b[0m\u001b[0;34m,\u001b[0m \u001b[0mY_train\u001b[0m\u001b[0;34m)\u001b[0m\u001b[0;34m\u001b[0m\u001b[0m\n\u001b[0;32m----> 3\u001b[0;31m \u001b[0mY_pred\u001b[0m \u001b[0;34m=\u001b[0m \u001b[0mclf\u001b[0m\u001b[0;34m.\u001b[0m\u001b[0mpredict\u001b[0m\u001b[0;34m(\u001b[0m\u001b[0mX_test\u001b[0m\u001b[0;34m)\u001b[0m\u001b[0;34m\u001b[0m\u001b[0m\n\u001b[0m\u001b[1;32m      4\u001b[0m \u001b[0mY_pred\u001b[0m \u001b[0;34m=\u001b[0m \u001b[0;34m[\u001b[0m\u001b[0;34m[\u001b[0m\u001b[0mvalue\u001b[0m\u001b[0;34m]\u001b[0m \u001b[0;32mfor\u001b[0m \u001b[0mvalue\u001b[0m \u001b[0;32min\u001b[0m \u001b[0mY_pred\u001b[0m\u001b[0;34m]\u001b[0m\u001b[0;34m\u001b[0m\u001b[0m\n",
      "\u001b[0;32m/home/ggebbia/.local/lib/python2.7/site-packages/sklearn/ensemble/forest.pyc\u001b[0m in \u001b[0;36mpredict\u001b[0;34m(self, X)\u001b[0m\n\u001b[1;32m    541\u001b[0m             \u001b[0mThe\u001b[0m \u001b[0mpredicted\u001b[0m \u001b[0mclasses\u001b[0m\u001b[0;34m.\u001b[0m\u001b[0;34m\u001b[0m\u001b[0m\n\u001b[1;32m    542\u001b[0m         \"\"\"\n\u001b[0;32m--> 543\u001b[0;31m         \u001b[0mproba\u001b[0m \u001b[0;34m=\u001b[0m \u001b[0mself\u001b[0m\u001b[0;34m.\u001b[0m\u001b[0mpredict_proba\u001b[0m\u001b[0;34m(\u001b[0m\u001b[0mX\u001b[0m\u001b[0;34m)\u001b[0m\u001b[0;34m\u001b[0m\u001b[0m\n\u001b[0m\u001b[1;32m    544\u001b[0m \u001b[0;34m\u001b[0m\u001b[0m\n\u001b[1;32m    545\u001b[0m         \u001b[0;32mif\u001b[0m \u001b[0mself\u001b[0m\u001b[0;34m.\u001b[0m\u001b[0mn_outputs_\u001b[0m \u001b[0;34m==\u001b[0m \u001b[0;36m1\u001b[0m\u001b[0;34m:\u001b[0m\u001b[0;34m\u001b[0m\u001b[0m\n",
      "\u001b[0;32m/home/ggebbia/.local/lib/python2.7/site-packages/sklearn/ensemble/forest.pyc\u001b[0m in \u001b[0;36mpredict_proba\u001b[0;34m(self, X)\u001b[0m\n\u001b[1;32m    581\u001b[0m         \u001b[0mcheck_is_fitted\u001b[0m\u001b[0;34m(\u001b[0m\u001b[0mself\u001b[0m\u001b[0;34m,\u001b[0m \u001b[0;34m'estimators_'\u001b[0m\u001b[0;34m)\u001b[0m\u001b[0;34m\u001b[0m\u001b[0m\n\u001b[1;32m    582\u001b[0m         \u001b[0;31m# Check data\u001b[0m\u001b[0;34m\u001b[0m\u001b[0;34m\u001b[0m\u001b[0m\n\u001b[0;32m--> 583\u001b[0;31m         \u001b[0mX\u001b[0m \u001b[0;34m=\u001b[0m \u001b[0mself\u001b[0m\u001b[0;34m.\u001b[0m\u001b[0m_validate_X_predict\u001b[0m\u001b[0;34m(\u001b[0m\u001b[0mX\u001b[0m\u001b[0;34m)\u001b[0m\u001b[0;34m\u001b[0m\u001b[0m\n\u001b[0m\u001b[1;32m    584\u001b[0m \u001b[0;34m\u001b[0m\u001b[0m\n\u001b[1;32m    585\u001b[0m         \u001b[0;31m# Assign chunk of trees to jobs\u001b[0m\u001b[0;34m\u001b[0m\u001b[0;34m\u001b[0m\u001b[0m\n",
      "\u001b[0;32m/home/ggebbia/.local/lib/python2.7/site-packages/sklearn/ensemble/forest.pyc\u001b[0m in \u001b[0;36m_validate_X_predict\u001b[0;34m(self, X)\u001b[0m\n\u001b[1;32m    360\u001b[0m                                  \"call `fit` before exploiting the model.\")\n\u001b[1;32m    361\u001b[0m \u001b[0;34m\u001b[0m\u001b[0m\n\u001b[0;32m--> 362\u001b[0;31m         \u001b[0;32mreturn\u001b[0m \u001b[0mself\u001b[0m\u001b[0;34m.\u001b[0m\u001b[0mestimators_\u001b[0m\u001b[0;34m[\u001b[0m\u001b[0;36m0\u001b[0m\u001b[0;34m]\u001b[0m\u001b[0;34m.\u001b[0m\u001b[0m_validate_X_predict\u001b[0m\u001b[0;34m(\u001b[0m\u001b[0mX\u001b[0m\u001b[0;34m,\u001b[0m \u001b[0mcheck_input\u001b[0m\u001b[0;34m=\u001b[0m\u001b[0mTrue\u001b[0m\u001b[0;34m)\u001b[0m\u001b[0;34m\u001b[0m\u001b[0m\n\u001b[0m\u001b[1;32m    363\u001b[0m \u001b[0;34m\u001b[0m\u001b[0m\n\u001b[1;32m    364\u001b[0m     \u001b[0;34m@\u001b[0m\u001b[0mproperty\u001b[0m\u001b[0;34m\u001b[0m\u001b[0m\n",
      "\u001b[0;32m/home/ggebbia/.local/lib/python2.7/site-packages/sklearn/tree/tree.pyc\u001b[0m in \u001b[0;36m_validate_X_predict\u001b[0;34m(self, X, check_input)\u001b[0m\n\u001b[1;32m    386\u001b[0m                              \u001b[0;34m\"match the input. Model n_features is %s and \"\u001b[0m\u001b[0;34m\u001b[0m\u001b[0m\n\u001b[1;32m    387\u001b[0m                              \u001b[0;34m\"input n_features is %s \"\u001b[0m\u001b[0;34m\u001b[0m\u001b[0m\n\u001b[0;32m--> 388\u001b[0;31m                              % (self.n_features_, n_features))\n\u001b[0m\u001b[1;32m    389\u001b[0m \u001b[0;34m\u001b[0m\u001b[0m\n\u001b[1;32m    390\u001b[0m         \u001b[0;32mreturn\u001b[0m \u001b[0mX\u001b[0m\u001b[0;34m\u001b[0m\u001b[0m\n",
      "\u001b[0;31mValueError\u001b[0m: Number of features of the model must match the input. Model n_features is 117 and input n_features is 51 "
     ]
    }
   ],
   "source": [
    "clf = RandomForestClassifier()\n",
    "clf.fit(X_train, Y_train)\n",
    "Y_pred = clf.predict(X_test)\n",
    "Y_pred = [[value] for value in Y_pred]"
   ]
  },
  {
   "cell_type": "code",
   "execution_count": 151,
   "metadata": {},
   "outputs": [],
   "source": [
    "outputfile = open(output_filename, \"w\")\n",
    "output_predicted_entities(Y_pred, fulltest_filename)\n",
    "outputfile.close()"
   ]
  },
  {
   "cell_type": "code",
   "execution_count": 109,
   "metadata": {},
   "outputs": [],
   "source": []
  },
  {
   "cell_type": "code",
   "execution_count": null,
   "metadata": {},
   "outputs": [],
   "source": []
  }
 ],
 "metadata": {
  "kernelspec": {
   "display_name": "Python 3",
   "language": "python",
   "name": "python3"
  },
  "language_info": {
   "codemirror_mode": {
    "name": "ipython",
    "version": 2
   },
   "file_extension": ".py",
   "mimetype": "text/x-python",
   "name": "python",
   "nbconvert_exporter": "python",
   "pygments_lexer": "ipython2",
   "version": "2.7.15"
  }
 },
 "nbformat": 4,
 "nbformat_minor": 2
}

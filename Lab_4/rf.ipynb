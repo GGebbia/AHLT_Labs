{
 "cells": [
  {
   "cell_type": "code",
   "execution_count": 11,
   "metadata": {},
   "outputs": [],
   "source": [
    "from sklearn.ensemble import RandomForestClassifier\n",
    "import itertools\n",
    "import numpy as np\n",
    "import pandas as pd\n",
    "import collections"
   ]
  },
  {
   "cell_type": "code",
   "execution_count": 3,
   "metadata": {},
   "outputs": [],
   "source": [
    "def split_data(features):\n",
    "    \"\"\"\n",
    "    Receive a list of featured sentences splitted by words and split it into samples and labels.\n",
    "\n",
    "    Parameters:\n",
    "    word_features(list): List of feature words. There is an empty element between sentences in order to split each one.\n",
    "\n",
    "    Returns:\n",
    "    X_samples(list): List of feature words missing the label of the word.\n",
    "    Y_labels(list): List of labels for each word.\n",
    "    \"\"\"\n",
    "\n",
    "    X_samples = []\n",
    "    Y_labels = []\n",
    "\n",
    "    for feat in features:\n",
    "        feat = feat.split(\" \")\n",
    "        Y_labels.append(feat[0])\n",
    "        X_samples.append(feat[1:])\n",
    "\n",
    "    return X_samples, Y_labels\n",
    "\n",
    "\n",
    "def output_predicted_entities(Y_pred, filename):\n",
    "    \"\"\"\n",
    "    Receives the predicted list of labels by the ML model and a filename of the detailed word features and construct predicted.txt file\n",
    "    with the intrinsic details of each word, id, offsets and the predicted label.\n",
    "\n",
    "    Parameters:\n",
    "    Y_pred(list): List of list of predicted labels for each word.\n",
    "    filename(str): filename to read the \"feats.dat\" data of the testing dataset\n",
    "\n",
    "    Returns:\n",
    "\n",
    "    \"\"\"\n",
    "\n",
    "    Y_pred_flatten = [el for line in Y_pred for el in line]\n",
    "    detailed_word_features = open(filename).read().split(\"\\n\")[:-1]\n",
    "\n",
    "    for label, detailed_feats in zip(Y_pred_flatten, detailed_word_features):\n",
    "        _id, e1_id, e2_id = detailed_feats.split(\" \")[0:3]\n",
    "        if label == \"null\":\n",
    "            interaction = \"0\"\n",
    "        else:\n",
    "            interaction = \"1\"\n",
    "        line = [_id, e1_id, e2_id, interaction, label]\n",
    "        outputfile.write(\"|\".join(line) + \"\\n\")\n",
    "        \n",
    "def evaluate(inputdir, outputfile):\n",
    "    \"\"\"\n",
    "    Receives an input directory and the outputfile to evaluate the predicted labels with the evaluateNER.jar program.\n",
    "\n",
    "    Parameters:\n",
    "    inputdir(str):\n",
    "    outputfile(str):\n",
    "\n",
    "    Returns:\n",
    "\n",
    "    \"\"\"\n",
    "\n",
    "    os.system(\"java -jar eval/evaluateDDI.jar \" + inputdir + \" \" + outputfile)\n"
   ]
  },
  {
   "cell_type": "code",
   "execution_count": 4,
   "metadata": {},
   "outputs": [],
   "source": [
    "def transform_feature_vector_to_dataset(X_train, X_test):\n",
    "    \n",
    "    flatten_X_samples = list(itertools.chain(*X_train))\n",
    "    feature_names_eq = [item.split(\"=\")[0]for item in flatten_X_samples if \"=\" in item]\n",
    "    feature_names_eq = list(set(feature_names_eq))\n",
    "    feature_names_without_eq = [item for item, count in collections.Counter(flatten_X_samples).items() if \"=\" not in item][1:]\n",
    "    \n",
    "    n_features = len(feature_names_eq) + len(feature_names_without_eq)\n",
    "    \n",
    "    new_X_train = np.zeros((len(X_train), n_features))\n",
    "    new_X_test = np.zeros((len(X_test), n_features))\n",
    "    \n",
    "    for i, sample in enumerate(X_train):\n",
    "        for j, feature_name in enumerate(feature_names_eq):\n",
    "            for feat in sample:\n",
    "                if feature_name in feat:\n",
    "                    value = feat.split(\"=\")[1]                \n",
    "                    new_X_train[i,j] = value\n",
    "                \n",
    "    for i, sample in enumerate(X_train):\n",
    "        for j, feature_name in enumerate(feature_names_without_eq, len(feature_names_eq)):\n",
    "            if feature_name in sample:\n",
    "\n",
    "                new_X_train[i,j] = 1\n",
    "    \n",
    "    for i, sample in enumerate(X_test):\n",
    "        for j, feature_name in enumerate(feature_names_eq):\n",
    "            for feat in sample:\n",
    "                if feature_name in feat:\n",
    "                    value = feat.split(\"=\")[1]                \n",
    "                    new_X_test[i,j] = value\n",
    "    \n",
    "    for i, sample in enumerate(X_test):\n",
    "        for j, feature_name in enumerate(feature_names_without_eq, len(feature_names_eq)):\n",
    "            if feature_name in sample:\n",
    "                new_X_test[i,j] = 1\n",
    "    \n",
    "    return new_X_train, new_X_test\n",
    "\n",
    "def process_feature_vectors(train_feature_vectors, test_feature_vectors):\n",
    "    X_train, Y_train = split_data(train_feature_vectors)\n",
    "    X_test, Y_test = split_data(test_feature_vectors)\n",
    "    \n",
    "    new_X_train, new_X_test = transform_feature_vector_to_dataset(X_train, X_test)\n",
    "    # new_X_train, new_X_test = process_dataset_to_dataframe(new_X_train, new_X_test)\n",
    "    return new_X_train, Y_train, new_X_test, Y_test"
   ]
  },
  {
   "cell_type": "code",
   "execution_count": 5,
   "metadata": {},
   "outputs": [],
   "source": [
    "### MAIN VARIABLES\n",
    "# train_filename = os.path.join(args.train, \"megam.dat\")\n",
    "# test_filename = os.path.join(args.test, \"megam.dat\")\n",
    "# fulltest_filename = os.path.join(args.test, \"feats.dat\")\n",
    "\n",
    "train_filename = \"./extracted_features/Train/megam.dat\"\n",
    "test_filename = \"./extracted_features/Devel/megam.dat\"\n",
    "fulltest_filename = \"./extracted_features/Devel/feats.dat\"\n",
    "\n",
    "# _type represents the if it has internal or external knowledge\n",
    "# _type = args.test.split(\"/\")[-2]\n",
    "# inputdir = os.path.join(\"data\", args.test.split(\"/\")[-1])\n",
    "\n",
    "# If outputdir does not exist, we safely create it\n",
    "# outputdir = \"./\"\n",
    "# if not os.path.exists(outputdir):\n",
    "#    os.makedirs(outputdir)\n",
    "\n",
    "\n",
    "output_filename = \"./predicted.txt\"\n",
    "\n",
    "\n",
    "train_feat_vects = open(train_filename, \"r\").read().split(\"\\n\")[:-1]\n",
    "test_feat_vects = open(test_filename, \"r\").read().split(\"\\n\")[:-1]\n",
    "\n",
    "X_train, Y_train, X_test, Y_test = process_feature_vectors(train_feat_vects, test_feat_vects)"
   ]
  },
  {
   "cell_type": "code",
   "execution_count": 32,
   "metadata": {},
   "outputs": [
    {
     "name": "stderr",
     "output_type": "stream",
     "text": [
      "/home/ggebbia/.local/lib/python2.7/site-packages/sklearn/ensemble/forest.py:246: FutureWarning: The default value of n_estimators will change from 10 in version 0.20 to 100 in 0.22.\n",
      "  \"10 in version 0.20 to 100 in 0.22.\", FutureWarning)\n"
     ]
    }
   ],
   "source": [
    "clf = RandomForestClassifier()\n",
    "clf.fit(X_train, Y_train)\n",
    "Y_pred = clf.predict(X_test)\n",
    "Y_pred = [[value] for value in Y_pred]"
   ]
  },
  {
   "cell_type": "code",
   "execution_count": 12,
   "metadata": {},
   "outputs": [],
   "source": [
    "from sklearn.model_selection import GridSearchCV\n"
   ]
  },
  {
   "cell_type": "code",
   "execution_count": 13,
   "metadata": {},
   "outputs": [],
   "source": [
    "def gridsearch(model, parameters):\n",
    "    clf = GridSearchCV(model, parameters)\n",
    "    clf.fit(X_train, Y_train)\n",
    "    Y_pred = clf.predict(X_test)"
   ]
  },
  {
   "cell_type": "code",
   "execution_count": 14,
   "metadata": {},
   "outputs": [],
   "source": [
    "from sklearn.svm import LinearSVC"
   ]
  },
  {
   "cell_type": "code",
   "execution_count": 15,
   "metadata": {},
   "outputs": [
    {
     "name": "stderr",
     "output_type": "stream",
     "text": [
      "/home/ggebbia/.local/lib/python2.7/site-packages/sklearn/model_selection/_split.py:2052: FutureWarning: You should specify a value for 'cv' instead of relying on the default value. The default value will change from 3 to 5 in version 0.22.\n",
      "  warnings.warn(CV_WARNING, FutureWarning)\n"
     ]
    }
   ],
   "source": [
    "rfc_cv = RandomForestClassifier()\n",
    "params = {'n_estimators': [5, 10, 15, 20],\n",
    "         'max_depth': [100, 200, 300]}\n",
    "\n",
    "svm_cv = LinearSVC(class_weight=\"balanced\")\n",
    "gridsearch(rfc_cv, params)"
   ]
  },
  {
   "cell_type": "code",
   "execution_count": 16,
   "metadata": {},
   "outputs": [
    {
     "ename": "NameError",
     "evalue": "name 'Y_pred' is not defined",
     "output_type": "error",
     "traceback": [
      "\u001b[0;31m---------------------------------------------------------------------------\u001b[0m",
      "\u001b[0;31mNameError\u001b[0m                                 Traceback (most recent call last)",
      "\u001b[0;32m<ipython-input-16-9767b7164c44>\u001b[0m in \u001b[0;36m<module>\u001b[0;34m()\u001b[0m\n\u001b[1;32m      1\u001b[0m \u001b[0moutputfile\u001b[0m \u001b[0;34m=\u001b[0m \u001b[0mopen\u001b[0m\u001b[0;34m(\u001b[0m\u001b[0moutput_filename\u001b[0m\u001b[0;34m,\u001b[0m \u001b[0;34m\"w\"\u001b[0m\u001b[0;34m)\u001b[0m\u001b[0;34m\u001b[0m\u001b[0m\n\u001b[0;32m----> 2\u001b[0;31m \u001b[0moutput_predicted_entities\u001b[0m\u001b[0;34m(\u001b[0m\u001b[0mY_pred\u001b[0m\u001b[0;34m,\u001b[0m \u001b[0mfulltest_filename\u001b[0m\u001b[0;34m)\u001b[0m\u001b[0;34m\u001b[0m\u001b[0m\n\u001b[0m\u001b[1;32m      3\u001b[0m \u001b[0moutputfile\u001b[0m\u001b[0;34m.\u001b[0m\u001b[0mclose\u001b[0m\u001b[0;34m(\u001b[0m\u001b[0;34m)\u001b[0m\u001b[0;34m\u001b[0m\u001b[0m\n",
      "\u001b[0;31mNameError\u001b[0m: name 'Y_pred' is not defined"
     ]
    }
   ],
   "source": [
    "outputfile = open(output_filename, \"w\")\n",
    "output_predicted_entities(Y_pred, fulltest_filename)\n",
    "outputfile.close()"
   ]
  },
  {
   "cell_type": "code",
   "execution_count": null,
   "metadata": {},
   "outputs": [],
   "source": [
    "set "
   ]
  }
 ],
 "metadata": {
  "kernelspec": {
   "display_name": "Python 3",
   "language": "python",
   "name": "python3"
  },
  "language_info": {
   "codemirror_mode": {
    "name": "ipython",
    "version": 2
   },
   "file_extension": ".py",
   "mimetype": "text/x-python",
   "name": "python",
   "nbconvert_exporter": "python",
   "pygments_lexer": "ipython2",
   "version": "2.7.15"
  }
 },
 "nbformat": 4,
 "nbformat_minor": 2
}

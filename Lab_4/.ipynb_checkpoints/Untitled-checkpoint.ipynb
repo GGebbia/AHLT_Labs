{
 "cells": [
  {
   "cell_type": "code",
   "execution_count": 1,
   "metadata": {},
   "outputs": [],
   "source": [
    "import xml.etree.ElementTree as ET\n",
    "import nltk\n",
    "from nltk.parse.corenlp import CoreNLPDependencyParser\n",
    "\n",
    "import os\n",
    "import sys\n",
    "import re"
   ]
  },
  {
   "cell_type": "code",
   "execution_count": 2,
   "metadata": {},
   "outputs": [],
   "source": [
    "def analyze(s):\n",
    "    mytree = my_parser.raw_parse(s)\n",
    "    last_offset_end = 0\n",
    "    for head_node in mytree:\n",
    "        print(list(head_node.nodes.viewkeys())[1:])\n",
    "        for key in sorted(head_node.nodes, key=lambda key: int(key)):\n",
    "            # first key is not first word (is root)\n",
    "            if key == 0:\n",
    "                continue\n",
    "            # find first occurrence of substring token in sentence\n",
    "            word = head_node.nodes[key]['word']\n",
    "            offset_start = s.find(word, last_offset_end)\n",
    "            offset_end = offset_start + len(word) - 1  # -1 as length 1 is same start and end\n",
    "            # store last offsets\n",
    "            last_offset_end = offset_end\n",
    "            # add start and end to the token\n",
    "            head_node.nodes[key]['start'] = offset_start\n",
    "            head_node.nodes[key]['end'] = offset_end\n",
    "\n",
    "    return head_node\n"
   ]
  },
  {
   "cell_type": "code",
   "execution_count": 3,
   "metadata": {},
   "outputs": [],
   "source": [
    "class Entity:                                                                                                                                                                           \n",
    "                                                                                                                                                                                         \n",
    "    def __init__(self, **kwargs):                                                                                                                                                       \n",
    "        self.word = kwargs[\"text\"]                                                                                                                                                      \n",
    "        self.offset_from, self.offset_to = self.parse_offset(kwargs[\"charOffset\"])                                                                                                      \n",
    "        self.id = kwargs[\"id\"]                                                                                                                                                          \n",
    "\n",
    "    def parse_offset(self, offset):                                                                                                                                                     \n",
    "\n",
    "        # offset can be given in two ways                                                                                                                                               \n",
    "        # e.g.:                                                                                                                                                                         \n",
    "        #       * 9-23                                                                                                                                                                  \n",
    "        #       * 9-11;12-20;21-23                                                                                                                                                      \n",
    "        #                                                                                                                                                                               \n",
    "        # We differenciate both cases and always save the first one and the last one                                                                                                    \n",
    "\n",
    "        if \";\" in offset:                                                                                                                                                               \n",
    "            offset = offset.split(\";\")                                                                                                                                                  \n",
    "            offset_from = offset[0].split('-')[0]                                                                                                                                       \n",
    "            offset_to = offset[-1].split('-')[1]                                                                                                                                        \n",
    "        else:                                                                                                                                                                           \n",
    "            offset_from, offset_to = offset.split('-')                                                                                                                                  \n",
    "\n",
    "        return int(offset_from), int(offset_to) "
   ]
  },
  {
   "cell_type": "code",
   "execution_count": 40,
   "metadata": {},
   "outputs": [],
   "source": [
    "my_parser = CoreNLPDependencyParser(url=\"http://localhost:9000\")"
   ]
  },
  {
   "cell_type": "code",
   "execution_count": 108,
   "metadata": {},
   "outputs": [],
   "source": [
    "s = \"Caution should be exercised when combining resorcinol or salicylic acid with DIFFERIN Gel\"\n",
    "e1 = \"resorcinol\"\n",
    "e2 = \"salicylic acid\"\n",
    "e3 = \"DIFFERIN Gel\"\n",
    "entities = [Entity(**{\"text\": e1, \"charOffset\": \"21-30\", \"id\": \"DDI-DrugBank.d200.s0.e0\"}), Entity(**{\"text\": e2, \"charOffset\": \"37-45\", \"id\": \"DDI-DrugBank.d200.s0.e1\"})]"
   ]
  },
  {
   "cell_type": "code",
   "execution_count": 182,
   "metadata": {},
   "outputs": [
    {
     "name": "stdout",
     "output_type": "stream",
     "text": [
      "[1, 2, 3, 4, 5, 6, 7, 8, 9, 10, 11, 12, 13, 14, 15, 16, 17, 18, 19, 20, 21, 22, 23, 24, 25, 26, 27, 28, 29, 30, 31, 32, 33, 34, 35, 36, 37, 38, 39, 40, 41, 42, 43, 44, 45, 46, 47, 48, 49, 50, 51]\n"
     ]
    }
   ],
   "source": [
    "a = analyze(\"\"\"Nelfinavir is an inhibitor of CYP3A (cytochrome P450 3A). Coadministration of VIRACEPT and drugs primarily metabolized by CYP3A (e.g., dihydropyridine calcium channel blockers) may result in increased plasma concentrations of the other drug that could increase or prolong both its therapeutic and adverse effects.\"\"\")"
   ]
  },
  {
   "cell_type": "code",
   "execution_count": 183,
   "metadata": {},
   "outputs": [
    {
     "data": {
      "image/png": "[encoded data removed]",
      "text/plain": [
       "Tree('inhibitor', ['Nelfinavir', 'is', 'an', Tree('CYP3A', ['of', Tree('3A', ['-LRB-', 'cytochrome', 'P450', '-RRB-'])]), '.', Tree('result', [Tree('Coadministration', [Tree('VIRACEPT', ['of', 'and', 'drugs']), Tree('metabolized', ['primarily', Tree('CYP3A', ['by', Tree('blockers', ['-LRB-', 'e.g.', ',', 'dihydropyridine', 'calcium', 'channel', '-RRB-'])])])]), 'may', Tree('concentrations', ['in', 'increased', 'plasma', Tree('drug', ['of', 'the', 'other', Tree('increase', ['that', 'could', 'or', 'prolong', Tree('effects', ['both', 'its', Tree('therapeutic', ['and', 'adverse'])])])])])]), '.'])"
      ]
     },
     "execution_count": 183,
     "metadata": {},
     "output_type": "execute_result"
    }
   ],
   "source": [
    "a.tree()"
   ]
  },
  {
   "cell_type": "code",
   "execution_count": null,
   "metadata": {},
   "outputs": [],
   "source": []
  },
  {
   "cell_type": "code",
   "execution_count": 158,
   "metadata": {},
   "outputs": [],
   "source": [
    "def get_entity_node_key(entity, analysis):                                                                                                                                              \n",
    "    for key in sorted(analysis.nodes, key=lambda key: int(key)):                                                                                                                        \n",
    "        try:                                                                                                                                                                            \n",
    "            if analysis.nodes[key]['word'] == entity:                                                                                                                          \n",
    "                return key                                                                                                                                                              \n",
    "        except KeyError:                                                                                                                                                                \n",
    "            pass                                                                                                                                                                        \n",
    "    return 0  "
   ]
  },
  {
   "cell_type": "code",
   "execution_count": 121,
   "metadata": {},
   "outputs": [
    {
     "ename": "TypeError",
     "evalue": "unsupported operand type(s) for &: 'list' and 'list'",
     "output_type": "error",
     "traceback": [
      "\u001b[0;31m---------------------------------------------------------------------------\u001b[0m",
      "\u001b[0;31mTypeError\u001b[0m                                 Traceback (most recent call last)",
      "\u001b[0;32m<ipython-input-121-57bd3de382f6>\u001b[0m in \u001b[0;36m<module>\u001b[0;34m()\u001b[0m\n\u001b[1;32m     12\u001b[0m     \u001b[0mfeatures\u001b[0m\u001b[0;34m.\u001b[0m\u001b[0mappend\u001b[0m\u001b[0;34m(\u001b[0m\u001b[0;34m\"2under1\"\u001b[0m\u001b[0;34m)\u001b[0m\u001b[0;34m\u001b[0m\u001b[0m\n\u001b[1;32m     13\u001b[0m \u001b[0;34m\u001b[0m\u001b[0m\n\u001b[0;32m---> 14\u001b[0;31m \u001b[0mb\u001b[0m \u001b[0;34m&\u001b[0m \u001b[0mc\u001b[0m\u001b[0;34m\u001b[0m\u001b[0m\n\u001b[0m",
      "\u001b[0;31mTypeError\u001b[0m: unsupported operand type(s) for &: 'list' and 'list'"
     ]
    }
   ],
   "source": [
    "key_e1 = get_entity_node_key(e1.split()[-1],a)\n",
    "key_e2 = get_entity_node_key(e3.split()[-1],a)\n",
    "\n",
    "\n",
    "heads_e1, relations_e1 = get_heads_and_relations(key_e1, a)\n",
    "\n",
    "heads_e2, relations_e2 = get_heads_and_relations(key_e2, a)\n",
    "\n",
    "if key_e1 in heads_e2:\n",
    "    features.append(\"1under2\")\n",
    "elif  key_e2 in heads_e1:\n",
    "    features.append(\"2under1\")\n",
    "\n"
   ]
  },
  {
   "cell_type": "code",
   "execution_count": 174,
   "metadata": {},
   "outputs": [],
   "source": [
    "features = []"
   ]
  },
  {
   "cell_type": "code",
   "execution_count": 177,
   "metadata": {},
   "outputs": [],
   "source": [
    "key_e1 = get_entity_node_key(e1.split()[-1],a)\n",
    "key_e2 = get_entity_node_key(e3.split()[-1],a)\n",
    "\n",
    "\n",
    "h_r_e1 = get_heads_and_relations(key_e1, a)\n",
    "\n",
    "h_r_e2 = get_heads_and_relations(key_e2, a)\n",
    "\n",
    "path_to_cp_e1, path_to_cp_e2 = separately_paths_to_common_parent(h_r_e1, h_r_e2)\n",
    "\n",
    "for i, (head, rel) in enumerate(path_to_cp_e1):\n",
    "    features.append(\"dep_e1_{}={}\".format(i,rel))\n",
    "    "
   ]
  },
  {
   "cell_type": "code",
   "execution_count": 178,
   "metadata": {},
   "outputs": [
    {
     "data": {
      "text/plain": [
       "['dep_0=dobj', 'dep_e1_0=dobj']"
      ]
     },
     "execution_count": 178,
     "metadata": {},
     "output_type": "execute_result"
    }
   ],
   "source": [
    "features"
   ]
  },
  {
   "cell_type": "code",
   "execution_count": 171,
   "metadata": {},
   "outputs": [],
   "source": [
    "def separately_paths_to_common_parent(list1, list2):\n",
    "    h_1 = [el[0] for el in list1]\n",
    "    h_2 = [el[0] for el in list2]\n",
    "    h_intersection = [value for value in h_1 if value in h_2]\n",
    "    \n",
    "    common_parent_node_key = h_intersection[0]\n",
    "    path_1 = sorted([el for el in list1 if el[0] >= common_parent_node_key])\n",
    "    path_2 = sorted([el for el in list2 if el[0] >= common_parent_node_key])\n",
    "    \n",
    "    return path_1, path_2\n",
    "    "
   ]
  },
  {
   "cell_type": "code",
   "execution_count": 146,
   "metadata": {},
   "outputs": [
    {
     "data": {
      "text/plain": [
       "([(6, u'dobj')], [(6, u'nmod')])"
      ]
     },
     "execution_count": 146,
     "metadata": {},
     "output_type": "execute_result"
    }
   ],
   "source": [
    "separately_paths_to_common_parent(h_r_e1, h_r_e2)"
   ]
  },
  {
   "cell_type": "code",
   "execution_count": 127,
   "metadata": {
    "scrolled": true
   },
   "outputs": [
    {
     "data": {
      "text/plain": [
       "6"
      ]
     },
     "execution_count": 127,
     "metadata": {},
     "output_type": "execute_result"
    }
   ],
   "source": [
    "common_parent_node(b,c)"
   ]
  },
  {
   "cell_type": "code",
   "execution_count": 136,
   "metadata": {},
   "outputs": [],
   "source": [
    "def get_heads_and_relations(entity_key, analysis):\n",
    "    global heads_rels \n",
    "    heads_rels = []\n",
    "    heads_rels = _get_heads_and_relations(entity_key, analysis)\n",
    "    return heads_rels"
   ]
  },
  {
   "cell_type": "code",
   "execution_count": 134,
   "metadata": {},
   "outputs": [],
   "source": [
    "def _get_heads_and_relations(entity_key, analysis):\n",
    "    node = analysis.nodes[entity_key]\n",
    "    \n",
    "    head = node[\"head\"]\n",
    "    rel = node[\"rel\"]\n",
    "    if head != 0:\n",
    "        heads_rels.append((head,rel))\n",
    "        _get_heads_and_relations(head,analysis)\n",
    "    return heads_rels"
   ]
  },
  {
   "cell_type": "code",
   "execution_count": 7,
   "metadata": {
    "scrolled": true
   },
   "outputs": [
    {
     "data": {
      "image/png": "[encoded data removed]",
      "text/plain": [
       "Tree('exercised', ['Caution', 'should', 'be', Tree('combining', ['when', Tree('resorcinol', ['or', Tree('acid', ['salicylic'])]), Tree('Gel', ['with', 'DIFFERIN'])])])"
      ]
     },
     "execution_count": 7,
     "metadata": {},
     "output_type": "execute_result"
    }
   ],
   "source": [
    "a.tree()"
   ]
  },
  {
   "cell_type": "code",
   "execution_count": 8,
   "metadata": {},
   "outputs": [],
   "source": [
    "leaf_values = a.tree().leaves()\n"
   ]
  },
  {
   "cell_type": "code",
   "execution_count": 9,
   "metadata": {},
   "outputs": [
    {
     "data": {
      "text/plain": [
       "[u'Caution',\n",
       " u'should',\n",
       " u'be',\n",
       " u'when',\n",
       " u'or',\n",
       " u'salicylic',\n",
       " u'with',\n",
       " u'DIFFERIN']"
      ]
     },
     "execution_count": 9,
     "metadata": {},
     "output_type": "execute_result"
    }
   ],
   "source": [
    "leaf_values"
   ]
  },
  {
   "cell_type": "code",
   "execution_count": null,
   "metadata": {},
   "outputs": [],
   "source": [
    "def get_lca_length(location1, location2):\n",
    "    i = 0\n",
    "    while i < len(location1) and i < len(location2) and location1[i] == location2[i]:\n",
    "        i+=1\n",
    "    return i\n",
    "\n",
    "def get_labels_from_lca(ptree, lca_len, location):\n",
    "    labels = []\n",
    "    for i in range(lca_len, len(location)):\n",
    "        labels.append(ptree[location[:i]].label())\n",
    "    return labels\n",
    "\n",
    "def findPath(ptree, text1, text2):\n",
    "    leaf_values = ptree.leaves()\n",
    "    leaf_index1 = leaf_values.index(text1)\n",
    "    leaf_index2 = leaf_values.index(text2)\n",
    "\n",
    "    location1 = ptree.leaf_treeposition(leaf_index1)\n",
    "    location2 = ptree.leaf_treeposition(leaf_index2)\n",
    "\n",
    "    #find length of least common ancestor (lca)\n",
    "    lca_len = get_lca_length(location1, location2)\n",
    "\n",
    "    #find path from the node1 to lca\n",
    "\n",
    "    labels1 = get_labels_from_lca(ptree, lca_len, location1)\n",
    "    #ignore the first element, because it will be counted in the second part of the path\n",
    "    result = labels1[1:]\n",
    "    #inverse, because we want to go from the node to least common ancestor\n",
    "    result = result[::-1]\n",
    "\n",
    "    #add path from lca to node2\n",
    "    result = result + get_labels_from_lca(ptree, lca_len, location2)\n",
    "    return result\n",
    "\n",
    "ptree = ParentedTree.fromstring(\"(VP (VERB saw) (NP (DET the) (NOUN dog)))\")\n",
    "print(ptree.pprint())\n",
    "print(findPath(ptree, 'the', \"dog\"))"
   ]
  },
  {
   "cell_type": "code",
   "execution_count": 20,
   "metadata": {},
   "outputs": [],
   "source": [
    "def get_subtree_from_word(tree, ent):                                                                                                                \n",
    "\n",
    "# Get the first word if there are more than one                                                                                                  \n",
    "    for word in ent.split():                                                                                                                         \n",
    "        entity_subtree =  list(tree.subtrees(filter=lambda t: t.label() == word))                                                                    \n",
    "        if entity_subtree != []:                                                                                                                                  \n",
    "            return entity_subtree[0]                                                                                                                 \n",
    "\n",
    "    return []"
   ]
  },
  {
   "cell_type": "code",
   "execution_count": 62,
   "metadata": {},
   "outputs": [
    {
     "name": "stdout",
     "output_type": "stream",
     "text": [
      "[1, 2, 3, 4, 5, 6, 7, 8, 9, 10, 11, 12, 13]\n"
     ]
    }
   ],
   "source": [
    "analisis = analyze(\"Caution should be exercised when combining resorcinol or salicylic acid with DIFFERIN Gel\")"
   ]
  },
  {
   "cell_type": "code",
   "execution_count": 67,
   "metadata": {},
   "outputs": [
    {
     "data": {
      "text/plain": [
       "['hola', 'que']"
      ]
     },
     "execution_count": 67,
     "metadata": {},
     "output_type": "execute_result"
    }
   ],
   "source": [
    "\"hola que\".split()"
   ]
  },
  {
   "cell_type": "code",
   "execution_count": 69,
   "metadata": {},
   "outputs": [
    {
     "name": "stdout",
     "output_type": "stream",
     "text": [
      "[1, 2, 3, 4, 5, 6, 7, 8, 9, 10, 11, 12, 13, 14, 15, 16, 17, 18, 19, 20, 21, 22, 23, 24, 25, 26, 27, 28, 29, 30, 31, 32, 33, 34, 35]\n"
     ]
    }
   ],
   "source": [
    "analisis = analyze(\"Drugs That Should Not Be Coadministered With VIRACEPT Antiarrhythmics: amiodarone, quinidine            Antihistamines: astemizole, terfenadine Antimigraine: ergot derivatives Antimycobacterial agents: rifampin Benzodiazepines midazolam, triazolam GI    motility agents: cisapride\")"
   ]
  },
  {
   "cell_type": "code",
   "execution_count": null,
   "metadata": {},
   "outputs": [],
   "source": [
    "tree."
   ]
  },
  {
   "cell_type": "code",
   "execution_count": 70,
   "metadata": {
    "scrolled": true
   },
   "outputs": [
    {
     "data": {
      "image/png": "[encoded data removed]",
      "text/plain": [
       "Tree('Drugs', [Tree('Coadministered', ['That', 'Should', 'Not', 'Be', Tree('Antiarrhythmics', ['With', 'VIRACEPT'])]), ':', Tree('amiodarone', [',', Tree('Antihistamines', ['quinidine']), ':', Tree('astemizole', [Tree(',', [Tree('Antimigraine', ['terfenadine', ':', Tree('agents', ['ergot', 'derivatives', 'Antimycobacterial', ':', Tree('midazolam', ['rifampin', 'Benzodiazepines', ',', Tree('agents', ['triazolam', 'GI', 'motility'])])]), ':', 'cisapride'])])])])])"
      ]
     },
     "execution_count": 70,
     "metadata": {},
     "output_type": "execute_result"
    }
   ],
   "source": [
    "analisis.tree()"
   ]
  },
  {
   "cell_type": "code",
   "execution_count": 63,
   "metadata": {},
   "outputs": [
    {
     "name": "stdout",
     "output_type": "stream",
     "text": [
      "((u'exercised', u'VBN'), u'nsubjpass', (u'Caution', u'NN'))\n",
      "((u'exercised', u'VBN'), u'aux', (u'should', u'MD'))\n",
      "((u'exercised', u'VBN'), u'auxpass', (u'be', u'VB'))\n",
      "((u'exercised', u'VBN'), u'advcl', (u'combining', u'VBG'))\n",
      "((u'combining', u'VBG'), u'advmod', (u'when', u'WRB'))\n",
      "((u'combining', u'VBG'), u'dobj', (u'resorcinol', u'NN'))\n",
      "((u'resorcinol', u'NN'), u'cc', (u'or', u'CC'))\n",
      "((u'resorcinol', u'NN'), u'conj', (u'acid', u'NN'))\n",
      "((u'acid', u'NN'), u'amod', (u'salicylic', u'JJ'))\n",
      "((u'combining', u'VBG'), u'nmod', (u'Gel', u'NN'))\n",
      "((u'Gel', u'NN'), u'case', (u'with', u'IN'))\n",
      "((u'Gel', u'NN'), u'compound', (u'DIFFERIN', u'NNP'))\n"
     ]
    }
   ],
   "source": [
    "for gov, dep, bla in analisis.triples():\n",
    "    print(gov, dep, bla)"
   ]
  },
  {
   "cell_type": "code",
   "execution_count": 30,
   "metadata": {},
   "outputs": [],
   "source": [
    "e1_tree = get_subtree_from_word(tree, \"resorcinol\")"
   ]
  },
  {
   "cell_type": "code",
   "execution_count": 47,
   "metadata": {},
   "outputs": [],
   "source": [
    "e1_node = analisis.nodes[2]"
   ]
  },
  {
   "cell_type": "code",
   "execution_count": 48,
   "metadata": {},
   "outputs": [
    {
     "data": {
      "text/plain": [
       "{u'address': 2,\n",
       " u'ctag': u'NN',\n",
       " u'deps': defaultdict(list, {u'compound': [1], u'dep': [5], u'punct': [6]}),\n",
       " 'end': 7,\n",
       " u'feats': u'_',\n",
       " u'head': 0,\n",
       " u'lemma': u'que',\n",
       " u'rel': u'ROOT',\n",
       " 'start': 5,\n",
       " u'tag': u'NN',\n",
       " u'word': u'que'}"
      ]
     },
     "execution_count": 48,
     "metadata": {},
     "output_type": "execute_result"
    }
   ],
   "source": [
    "e1_node"
   ]
  },
  {
   "cell_type": "code",
   "execution_count": null,
   "metadata": {},
   "outputs": [],
   "source": []
  },
  {
   "cell_type": "code",
   "execution_count": 34,
   "metadata": {},
   "outputs": [
    {
     "data": {
      "text/plain": [
       "u'resorcinol'"
      ]
     },
     "execution_count": 34,
     "metadata": {},
     "output_type": "execute_result"
    }
   ],
   "source": [
    "e1_tree.label()"
   ]
  },
  {
   "cell_type": "code",
   "execution_count": 36,
   "metadata": {},
   "outputs": [
    {
     "name": "stdout",
     "output_type": "stream",
     "text": [
      "Help on method convert in module nltk.tree:\n",
      "\n",
      "convert(cls, tree) method of __builtin__.type instance\n",
      "    Convert a tree between different subtypes of Tree.  ``cls`` determines\n",
      "    which class will be used to encode the new tree.\n",
      "    \n",
      "    :type tree: Tree\n",
      "    :param tree: The tree that should be converted.\n",
      "    :return: The new Tree.\n",
      "\n"
     ]
    }
   ],
   "source": [
    "help(e1_tree.)"
   ]
  },
  {
   "cell_type": "code",
   "execution_count": 11,
   "metadata": {},
   "outputs": [
    {
     "name": "stdout",
     "output_type": "stream",
     "text": [
      "[1, 2, 3, 4, 5, 6]\n"
     ]
    }
   ],
   "source": [
    "analisis = analyze(s)"
   ]
  },
  {
   "cell_type": "code",
   "execution_count": 12,
   "metadata": {},
   "outputs": [],
   "source": [
    "tree = analisis.tree()"
   ]
  },
  {
   "cell_type": "code",
   "execution_count": 15,
   "metadata": {},
   "outputs": [
    {
     "data": {
      "image/png": "[encoded data removed]",
      "text/plain": [
       "Tree('que', ['Hola', Tree('resorcinol', ['tal', 'estas']), '.'])"
      ]
     },
     "execution_count": 15,
     "metadata": {},
     "output_type": "execute_result"
    }
   ],
   "source": [
    "tree"
   ]
  },
  {
   "cell_type": "code",
   "execution_count": 14,
   "metadata": {},
   "outputs": [
    {
     "name": "stdout",
     "output_type": "stream",
     "text": [
      "((u'que', u'NN'), u'compound', (u'Hola', u'NNP'))\n",
      "((u'que', u'NN'), u'dep', (u'resorcinol', u'FW'))\n",
      "((u'resorcinol', u'FW'), u'amod', (u'tal', u'JJ'))\n",
      "((u'resorcinol', u'FW'), u'compound', (u'estas', u'FW'))\n",
      "((u'que', u'NN'), u'punct', (u'.', u'.'))\n"
     ]
    }
   ],
   "source": [
    "for a in analisis.triples():\n",
    "    print(a)"
   ]
  },
  {
   "cell_type": "code",
   "execution_count": 116,
   "metadata": {},
   "outputs": [
    {
     "name": "stdout",
     "output_type": "stream",
     "text": [
      "[1, 2, 3, 4, 5, 6, 7, 8, 9, 10, 11, 12, 13, 14, 15, 16, 17, 18, 19, 20, 21, 22, 23, 24, 25, 26, 27, 28, 29, 30, 31, 32, 33, 34, 35, 36, 37, 38, 39]\n"
     ]
    }
   ],
   "source": [
    "analysis = analyze(s)"
   ]
  },
  {
   "cell_type": "code",
   "execution_count": 117,
   "metadata": {},
   "outputs": [],
   "source": [
    "tree= analysis.tree()"
   ]
  },
  {
   "cell_type": "code",
   "execution_count": 126,
   "metadata": {},
   "outputs": [
    {
     "data": {
      "image/png": "[encoded data removed]",
      "text/plain": [
       "Tree('result', [Tree('Coadministration', [Tree('VIRACEPT', ['of', 'and', 'drugs']), Tree('metabolized', ['primarily', Tree('CYP3A', ['by', Tree('blockers', ['-LRB-', 'e.g.', ',', 'dihydropyridine', 'calcium', 'channel', '-RRB-'])])])]), 'may', Tree('concentrations', ['in', 'increased', 'plasma', Tree('drug', ['of', 'the', 'other', Tree('increase', ['that', 'could', 'or', 'prolong', Tree('effects', ['both', 'its', Tree('therapeutic', ['and', 'adverse'])])])])]), '.'])"
      ]
     },
     "execution_count": 126,
     "metadata": {},
     "output_type": "execute_result"
    }
   ],
   "source": [
    "tree"
   ]
  },
  {
   "cell_type": "code",
   "execution_count": 122,
   "metadata": {},
   "outputs": [],
   "source": [
    "def get_subtree_from_word(tree, word):\n",
    "    return list(tree.subtrees(filter=lambda t: t.label() == word))"
   ]
  },
  {
   "cell_type": "code",
   "execution_count": 89,
   "metadata": {},
   "outputs": [],
   "source": [
    "def find_between( s, first, last ):\n",
    "    try:\n",
    "        start = s.index( first ) + len( first )\n",
    "        end = s.index( last, start )\n",
    "        return s[start:end]\n",
    "    except ValueError:\n",
    "        return \"\""
   ]
  },
  {
   "cell_type": "code",
   "execution_count": 50,
   "metadata": {},
   "outputs": [],
   "source": [
    " # Returns the key corresponding to the entity in the analysis dependency graph                                                                                                          \n",
    "def get_entity_node_key(entity, analysis):                                                                                                                                              \n",
    "    for key in list(analysis.nodes.keys())[1:]:                                                                                                                                        \n",
    "        if analysis.nodes[key]['start'] == int(entity[0]):                                                                                                                              \n",
    "            return key                                                                                                                                                                  \n",
    "                                                                                                                                                                                         \n",
    "    return 0                                                                                                                                                                            \n",
    "                                                                                                                                                                                         \n",
    " # Checks if the input word (belonging to a node) is a parent of the input parent                                                                                                        \n",
    " #       NOM EN MINUSCULA                                                                                                                                                                \n",
    "def is_node_in_parent(parent, word):                                                                                                                                                    \n",
    "    for node in parent:                                                                                                                                                                 \n",
    "        if type(node) is nltk.Tree:                                                                                                                                                     \n",
    "            if node.label() == word:                                                                                                                                                    \n",
    "                return True                                                                                                                                                             \n",
    "            if is_node_in_parent(node, word):                                                                                                                                              \n",
    "                return True                                                                                                                                                             \n",
    "        else:                                                                                                                                                                           \n",
    "            if node == word:                                                                                                                                                            \n",
    "                 return True                                                                                                                                                             \n",
    "    return False                          "
   ]
  },
  {
   "cell_type": "code",
   "execution_count": null,
   "metadata": {},
   "outputs": [],
   "source": [
    "is_node_in_parent()"
   ]
  }
 ],
 "metadata": {
  "kernelspec": {
   "display_name": "Python 3",
   "language": "python",
   "name": "python3"
  },
  "language_info": {
   "codemirror_mode": {
    "name": "ipython",
    "version": 2
   },
   "file_extension": ".py",
   "mimetype": "text/x-python",
   "name": "python",
   "nbconvert_exporter": "python",
   "pygments_lexer": "ipython2",
   "version": "2.7.15"
  }
 },
 "nbformat": 4,
 "nbformat_minor": 2
}

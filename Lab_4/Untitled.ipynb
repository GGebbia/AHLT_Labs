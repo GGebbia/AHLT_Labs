{
 "cells": [
  {
   "cell_type": "code",
   "execution_count": 1,
   "metadata": {},
   "outputs": [],
   "source": [
    "import xml.etree.ElementTree as ET\n",
    "import nltk\n",
    "from nltk.parse.corenlp import CoreNLPDependencyParser\n",
    "\n",
    "import os\n",
    "import sys\n",
    "import re"
   ]
  },
  {
   "cell_type": "code",
   "execution_count": 2,
   "metadata": {},
   "outputs": [],
   "source": [
    "def analyze(s):\n",
    "    mytree = my_parser.raw_parse(s)\n",
    "    last_offset_end = 0\n",
    "    for head_node in mytree:\n",
    "        print(list(head_node.nodes.viewkeys())[1:])\n",
    "        for key in sorted(head_node.nodes, key=lambda key: int(key)):\n",
    "            # first key is not first word (is root)\n",
    "            if key == 0:\n",
    "                continue\n",
    "            # find first occurrence of substring token in sentence\n",
    "            word = head_node.nodes[key]['word']\n",
    "            offset_start = s.find(word, last_offset_end)\n",
    "            offset_end = offset_start + len(word) - 1  # -1 as length 1 is same start and end\n",
    "            # store last offsets\n",
    "            last_offset_end = offset_end\n",
    "            # add start and end to the token\n",
    "            head_node.nodes[key]['start'] = offset_start\n",
    "            head_node.nodes[key]['end'] = offset_end\n",
    "\n",
    "    return head_node\n"
   ]
  },
  {
   "cell_type": "code",
   "execution_count": 3,
   "metadata": {},
   "outputs": [],
   "source": [
    "class Entity:                                                                                                                                                                           \n",
    "                                                                                                                                                                                         \n",
    "    def __init__(self, **kwargs):                                                                                                                                                       \n",
    "        self.word = kwargs[\"text\"]                                                                                                                                                      \n",
    "        self.offset_from, self.offset_to = self.parse_offset(kwargs[\"charOffset\"])                                                                                                      \n",
    "        self.id = kwargs[\"id\"]                                                                                                                                                          \n",
    "\n",
    "    def parse_offset(self, offset):                                                                                                                                                     \n",
    "\n",
    "        # offset can be given in two ways                                                                                                                                               \n",
    "        # e.g.:                                                                                                                                                                         \n",
    "        #       * 9-23                                                                                                                                                                  \n",
    "        #       * 9-11;12-20;21-23                                                                                                                                                      \n",
    "        #                                                                                                                                                                               \n",
    "        # We differenciate both cases and always save the first one and the last one                                                                                                    \n",
    "\n",
    "        if \";\" in offset:                                                                                                                                                               \n",
    "            offset = offset.split(\";\")                                                                                                                                                  \n",
    "            offset_from = offset[0].split('-')[0]                                                                                                                                       \n",
    "            offset_to = offset[-1].split('-')[1]                                                                                                                                        \n",
    "        else:                                                                                                                                                                           \n",
    "            offset_from, offset_to = offset.split('-')                                                                                                                                  \n",
    "\n",
    "        return int(offset_from), int(offset_to) "
   ]
  },
  {
   "cell_type": "code",
   "execution_count": 4,
   "metadata": {},
   "outputs": [],
   "source": [
    "my_parser = CoreNLPDependencyParser(url=\"http://localhost:9000\")"
   ]
  },
  {
   "cell_type": "code",
   "execution_count": 5,
   "metadata": {},
   "outputs": [],
   "source": [
    "s = \"Hola que tal estas resorcinol.\"\n",
    "e1 = \"resorcinol\"\n",
    "e2 = \"salicylic acid\"\n",
    "entities = [Entity(**{\"text\": e1, \"charOffset\": \"21-30\", \"id\": \"DDI-DrugBank.d200.s0.e0\"}), Entity(**{\"text\": e2, \"charOffset\": \"37-45\", \"id\": \"DDI-DrugBank.d200.s0.e1\"})]"
   ]
  },
  {
   "cell_type": "code",
   "execution_count": 20,
   "metadata": {},
   "outputs": [],
   "source": [
    "def get_subtree_from_word(tree, ent):                                                                                                                \n",
    "\n",
    "# Get the first word if there are more than one                                                                                                  \n",
    "    for word in ent.split():                                                                                                                         \n",
    "        entity_subtree =  list(tree.subtrees(filter=lambda t: t.label() == word))                                                                    \n",
    "        if entity_subtree != []:                                                                                                                                  \n",
    "            return entity_subtree[0]                                                                                                                 \n",
    "\n",
    "    return []"
   ]
  },
  {
   "cell_type": "code",
   "execution_count": 62,
   "metadata": {},
   "outputs": [
    {
     "name": "stdout",
     "output_type": "stream",
     "text": [
      "[1, 2, 3, 4, 5, 6, 7, 8, 9, 10, 11, 12, 13]\n"
     ]
    }
   ],
   "source": [
    "analisis = analyze(\"Caution should be exercised when combining resorcinol or salicylic acid with DIFFERIN Gel\")"
   ]
  },
  {
   "cell_type": "code",
   "execution_count": 67,
   "metadata": {},
   "outputs": [
    {
     "data": {
      "text/plain": [
       "['hola', 'que']"
      ]
     },
     "execution_count": 67,
     "metadata": {},
     "output_type": "execute_result"
    }
   ],
   "source": [
    "\"hola que\".split()"
   ]
  },
  {
   "cell_type": "code",
   "execution_count": 69,
   "metadata": {},
   "outputs": [
    {
     "name": "stdout",
     "output_type": "stream",
     "text": [
      "[1, 2, 3, 4, 5, 6, 7, 8, 9, 10, 11, 12, 13, 14, 15, 16, 17, 18, 19, 20, 21, 22, 23, 24, 25, 26, 27, 28, 29, 30, 31, 32, 33, 34, 35]\n"
     ]
    }
   ],
   "source": [
    "analisis = analyze(\"Drugs That Should Not Be Coadministered With VIRACEPT Antiarrhythmics: amiodarone, quinidine            Antihistamines: astemizole, terfenadine Antimigraine: ergot derivatives Antimycobacterial agents: rifampin Benzodiazepines midazolam, triazolam GI    motility agents: cisapride\")"
   ]
  },
  {
   "cell_type": "code",
   "execution_count": null,
   "metadata": {},
   "outputs": [],
   "source": [
    "tree."
   ]
  },
  {
   "cell_type": "code",
   "execution_count": 70,
   "metadata": {
    "scrolled": true
   },
   "outputs": [
    {
     "data": {
      "image/png": "[encoded data removed]",
      "text/plain": [
       "Tree('Drugs', [Tree('Coadministered', ['That', 'Should', 'Not', 'Be', Tree('Antiarrhythmics', ['With', 'VIRACEPT'])]), ':', Tree('amiodarone', [',', Tree('Antihistamines', ['quinidine']), ':', Tree('astemizole', [Tree(',', [Tree('Antimigraine', ['terfenadine', ':', Tree('agents', ['ergot', 'derivatives', 'Antimycobacterial', ':', Tree('midazolam', ['rifampin', 'Benzodiazepines', ',', Tree('agents', ['triazolam', 'GI', 'motility'])])]), ':', 'cisapride'])])])])])"
      ]
     },
     "execution_count": 70,
     "metadata": {},
     "output_type": "execute_result"
    }
   ],
   "source": [
    "analisis.tree()"
   ]
  },
  {
   "cell_type": "code",
   "execution_count": 63,
   "metadata": {},
   "outputs": [
    {
     "name": "stdout",
     "output_type": "stream",
     "text": [
      "((u'exercised', u'VBN'), u'nsubjpass', (u'Caution', u'NN'))\n",
      "((u'exercised', u'VBN'), u'aux', (u'should', u'MD'))\n",
      "((u'exercised', u'VBN'), u'auxpass', (u'be', u'VB'))\n",
      "((u'exercised', u'VBN'), u'advcl', (u'combining', u'VBG'))\n",
      "((u'combining', u'VBG'), u'advmod', (u'when', u'WRB'))\n",
      "((u'combining', u'VBG'), u'dobj', (u'resorcinol', u'NN'))\n",
      "((u'resorcinol', u'NN'), u'cc', (u'or', u'CC'))\n",
      "((u'resorcinol', u'NN'), u'conj', (u'acid', u'NN'))\n",
      "((u'acid', u'NN'), u'amod', (u'salicylic', u'JJ'))\n",
      "((u'combining', u'VBG'), u'nmod', (u'Gel', u'NN'))\n",
      "((u'Gel', u'NN'), u'case', (u'with', u'IN'))\n",
      "((u'Gel', u'NN'), u'compound', (u'DIFFERIN', u'NNP'))\n"
     ]
    }
   ],
   "source": [
    "for gov, dep, bla in analisis.triples():\n",
    "    print(gov, dep, bla)"
   ]
  },
  {
   "cell_type": "code",
   "execution_count": 30,
   "metadata": {},
   "outputs": [],
   "source": [
    "e1_tree = get_subtree_from_word(tree, \"resorcinol\")"
   ]
  },
  {
   "cell_type": "code",
   "execution_count": 47,
   "metadata": {},
   "outputs": [],
   "source": [
    "e1_node = analisis.nodes[2]"
   ]
  },
  {
   "cell_type": "code",
   "execution_count": 48,
   "metadata": {},
   "outputs": [
    {
     "data": {
      "text/plain": [
       "{u'address': 2,\n",
       " u'ctag': u'NN',\n",
       " u'deps': defaultdict(list, {u'compound': [1], u'dep': [5], u'punct': [6]}),\n",
       " 'end': 7,\n",
       " u'feats': u'_',\n",
       " u'head': 0,\n",
       " u'lemma': u'que',\n",
       " u'rel': u'ROOT',\n",
       " 'start': 5,\n",
       " u'tag': u'NN',\n",
       " u'word': u'que'}"
      ]
     },
     "execution_count": 48,
     "metadata": {},
     "output_type": "execute_result"
    }
   ],
   "source": [
    "e1_node"
   ]
  },
  {
   "cell_type": "code",
   "execution_count": null,
   "metadata": {},
   "outputs": [],
   "source": []
  },
  {
   "cell_type": "code",
   "execution_count": 34,
   "metadata": {},
   "outputs": [
    {
     "data": {
      "text/plain": [
       "u'resorcinol'"
      ]
     },
     "execution_count": 34,
     "metadata": {},
     "output_type": "execute_result"
    }
   ],
   "source": [
    "e1_tree.label()"
   ]
  },
  {
   "cell_type": "code",
   "execution_count": 36,
   "metadata": {},
   "outputs": [
    {
     "name": "stdout",
     "output_type": "stream",
     "text": [
      "Help on method convert in module nltk.tree:\n",
      "\n",
      "convert(cls, tree) method of __builtin__.type instance\n",
      "    Convert a tree between different subtypes of Tree.  ``cls`` determines\n",
      "    which class will be used to encode the new tree.\n",
      "    \n",
      "    :type tree: Tree\n",
      "    :param tree: The tree that should be converted.\n",
      "    :return: The new Tree.\n",
      "\n"
     ]
    }
   ],
   "source": [
    "help(e1_tree.)"
   ]
  },
  {
   "cell_type": "code",
   "execution_count": 11,
   "metadata": {},
   "outputs": [
    {
     "name": "stdout",
     "output_type": "stream",
     "text": [
      "[1, 2, 3, 4, 5, 6]\n"
     ]
    }
   ],
   "source": [
    "analisis = analyze(s)"
   ]
  },
  {
   "cell_type": "code",
   "execution_count": 12,
   "metadata": {},
   "outputs": [],
   "source": [
    "tree = analisis.tree()"
   ]
  },
  {
   "cell_type": "code",
   "execution_count": 15,
   "metadata": {},
   "outputs": [
    {
     "data": {
      "image/png": "[encoded data removed]",
      "text/plain": [
       "Tree('que', ['Hola', Tree('resorcinol', ['tal', 'estas']), '.'])"
      ]
     },
     "execution_count": 15,
     "metadata": {},
     "output_type": "execute_result"
    }
   ],
   "source": [
    "tree"
   ]
  },
  {
   "cell_type": "code",
   "execution_count": 14,
   "metadata": {},
   "outputs": [
    {
     "name": "stdout",
     "output_type": "stream",
     "text": [
      "((u'que', u'NN'), u'compound', (u'Hola', u'NNP'))\n",
      "((u'que', u'NN'), u'dep', (u'resorcinol', u'FW'))\n",
      "((u'resorcinol', u'FW'), u'amod', (u'tal', u'JJ'))\n",
      "((u'resorcinol', u'FW'), u'compound', (u'estas', u'FW'))\n",
      "((u'que', u'NN'), u'punct', (u'.', u'.'))\n"
     ]
    }
   ],
   "source": [
    "for a in analisis.triples():\n",
    "    print(a)"
   ]
  },
  {
   "cell_type": "code",
   "execution_count": 116,
   "metadata": {},
   "outputs": [
    {
     "name": "stdout",
     "output_type": "stream",
     "text": [
      "[1, 2, 3, 4, 5, 6, 7, 8, 9, 10, 11, 12, 13, 14, 15, 16, 17, 18, 19, 20, 21, 22, 23, 24, 25, 26, 27, 28, 29, 30, 31, 32, 33, 34, 35, 36, 37, 38, 39]\n"
     ]
    }
   ],
   "source": [
    "analysis = analyze(s)"
   ]
  },
  {
   "cell_type": "code",
   "execution_count": 117,
   "metadata": {},
   "outputs": [],
   "source": [
    "tree= analysis.tree()"
   ]
  },
  {
   "cell_type": "code",
   "execution_count": 126,
   "metadata": {},
   "outputs": [
    {
     "data": {
      "image/png": "[encoded data removed]",
      "text/plain": [
       "Tree('result', [Tree('Coadministration', [Tree('VIRACEPT', ['of', 'and', 'drugs']), Tree('metabolized', ['primarily', Tree('CYP3A', ['by', Tree('blockers', ['-LRB-', 'e.g.', ',', 'dihydropyridine', 'calcium', 'channel', '-RRB-'])])])]), 'may', Tree('concentrations', ['in', 'increased', 'plasma', Tree('drug', ['of', 'the', 'other', Tree('increase', ['that', 'could', 'or', 'prolong', Tree('effects', ['both', 'its', Tree('therapeutic', ['and', 'adverse'])])])])]), '.'])"
      ]
     },
     "execution_count": 126,
     "metadata": {},
     "output_type": "execute_result"
    }
   ],
   "source": [
    "tree"
   ]
  },
  {
   "cell_type": "code",
   "execution_count": 123,
   "metadata": {},
   "outputs": [],
   "source": [
    "a = get_subtree_from_word(tree, \"dihydropyridine\")"
   ]
  },
  {
   "cell_type": "code",
   "execution_count": 125,
   "metadata": {},
   "outputs": [
    {
     "data": {
      "text/plain": [
       "[]"
      ]
     },
     "execution_count": 125,
     "metadata": {},
     "output_type": "execute_result"
    }
   ],
   "source": [
    "a"
   ]
  },
  {
   "cell_type": "code",
   "execution_count": 124,
   "metadata": {},
   "outputs": [
    {
     "data": {
      "text/plain": [
       "list"
      ]
     },
     "execution_count": 124,
     "metadata": {},
     "output_type": "execute_result"
    }
   ],
   "source": [
    "type(a)"
   ]
  },
  {
   "cell_type": "code",
   "execution_count": 122,
   "metadata": {},
   "outputs": [],
   "source": [
    "def get_subtree_from_word(tree, word):\n",
    "    return list(tree.subtrees(filter=lambda t: t.label() == word))"
   ]
  },
  {
   "cell_type": "code",
   "execution_count": 93,
   "metadata": {},
   "outputs": [
    {
     "ename": "Exception",
     "evalue": "Cannot find the dot binary from Graphviz package",
     "output_type": "error",
     "traceback": [
      "\u001b[0;31m---------------------------------------------------------------------------\u001b[0m",
      "\u001b[0;31mException\u001b[0m                                 Traceback (most recent call last)",
      "\u001b[0;32m/home/ggebbia/.local/lib/python2.7/site-packages/IPython/core/formatters.pyc\u001b[0m in \u001b[0;36m__call__\u001b[0;34m(self, obj)\u001b[0m\n\u001b[1;32m    336\u001b[0m             \u001b[0mmethod\u001b[0m \u001b[0;34m=\u001b[0m \u001b[0mget_real_method\u001b[0m\u001b[0;34m(\u001b[0m\u001b[0mobj\u001b[0m\u001b[0;34m,\u001b[0m \u001b[0mself\u001b[0m\u001b[0;34m.\u001b[0m\u001b[0mprint_method\u001b[0m\u001b[0;34m)\u001b[0m\u001b[0;34m\u001b[0m\u001b[0m\n\u001b[1;32m    337\u001b[0m             \u001b[0;32mif\u001b[0m \u001b[0mmethod\u001b[0m \u001b[0;32mis\u001b[0m \u001b[0;32mnot\u001b[0m \u001b[0mNone\u001b[0m\u001b[0;34m:\u001b[0m\u001b[0;34m\u001b[0m\u001b[0m\n\u001b[0;32m--> 338\u001b[0;31m                 \u001b[0;32mreturn\u001b[0m \u001b[0mmethod\u001b[0m\u001b[0;34m(\u001b[0m\u001b[0;34m)\u001b[0m\u001b[0;34m\u001b[0m\u001b[0m\n\u001b[0m\u001b[1;32m    339\u001b[0m             \u001b[0;32mreturn\u001b[0m \u001b[0mNone\u001b[0m\u001b[0;34m\u001b[0m\u001b[0m\n\u001b[1;32m    340\u001b[0m         \u001b[0;32melse\u001b[0m\u001b[0;34m:\u001b[0m\u001b[0;34m\u001b[0m\u001b[0m\n",
      "\u001b[0;32m/home/ggebbia/.local/lib/python2.7/site-packages/nltk/parse/dependencygraph.pyc\u001b[0m in \u001b[0;36m_repr_svg_\u001b[0;34m(self)\u001b[0m\n\u001b[1;32m    214\u001b[0m             )\n\u001b[1;32m    215\u001b[0m         \u001b[0;32mexcept\u001b[0m \u001b[0mOSError\u001b[0m\u001b[0;34m:\u001b[0m\u001b[0;34m\u001b[0m\u001b[0m\n\u001b[0;32m--> 216\u001b[0;31m             \u001b[0;32mraise\u001b[0m \u001b[0mException\u001b[0m\u001b[0;34m(\u001b[0m\u001b[0;34m'Cannot find the dot binary from Graphviz package'\u001b[0m\u001b[0;34m)\u001b[0m\u001b[0;34m\u001b[0m\u001b[0m\n\u001b[0m\u001b[1;32m    217\u001b[0m         \u001b[0mout\u001b[0m\u001b[0;34m,\u001b[0m \u001b[0merr\u001b[0m \u001b[0;34m=\u001b[0m \u001b[0mprocess\u001b[0m\u001b[0;34m.\u001b[0m\u001b[0mcommunicate\u001b[0m\u001b[0;34m(\u001b[0m\u001b[0mdot_string\u001b[0m\u001b[0;34m)\u001b[0m\u001b[0;34m\u001b[0m\u001b[0m\n\u001b[1;32m    218\u001b[0m         \u001b[0;32mif\u001b[0m \u001b[0merr\u001b[0m\u001b[0;34m:\u001b[0m\u001b[0;34m\u001b[0m\u001b[0m\n",
      "\u001b[0;31mException\u001b[0m: Cannot find the dot binary from Graphviz package"
     ]
    },
    {
     "data": {
      "text/plain": [
       "<DependencyGraph with 14 nodes>"
      ]
     },
     "execution_count": 93,
     "metadata": {},
     "output_type": "execute_result"
    }
   ],
   "source": [
    "analysis"
   ]
  },
  {
   "cell_type": "code",
   "execution_count": 66,
   "metadata": {},
   "outputs": [],
   "source": [
    "e1_tree = get_subtree_from_word(tree, e1)"
   ]
  },
  {
   "cell_type": "code",
   "execution_count": 87,
   "metadata": {},
   "outputs": [],
   "source": [
    "s = \"hola que bla bla bla bla ble lbe lb tal que estas caca pedo\""
   ]
  },
  {
   "cell_type": "code",
   "execution_count": 89,
   "metadata": {},
   "outputs": [],
   "source": [
    "def find_between( s, first, last ):\n",
    "    try:\n",
    "        start = s.index( first ) + len( first )\n",
    "        end = s.index( last, start )\n",
    "        return s[start:end]\n",
    "    except ValueError:\n",
    "        return \"\""
   ]
  },
  {
   "cell_type": "code",
   "execution_count": 91,
   "metadata": {},
   "outputs": [
    {
     "data": {
      "text/plain": [
       "' que estas '"
      ]
     },
     "execution_count": 91,
     "metadata": {},
     "output_type": "execute_result"
    }
   ],
   "source": [
    "find_between(s, \"tal\", \"caca\")"
   ]
  },
  {
   "cell_type": "code",
   "execution_count": 88,
   "metadata": {},
   "outputs": [
    {
     "data": {
      "text/plain": [
       "('hola que bla bla bla bla ble lbe lb ', 'tal', ' que estas caca pedo')"
      ]
     },
     "execution_count": 88,
     "metadata": {},
     "output_type": "execute_result"
    }
   ],
   "source": [
    "s.partition(e1)"
   ]
  },
  {
   "cell_type": "code",
   "execution_count": 86,
   "metadata": {},
   "outputs": [
    {
     "name": "stdout",
     "output_type": "stream",
     "text": [
      "Help on built-in function center:\n",
      "\n",
      "center(...)\n",
      "    S.center(width[, fillchar]) -> string\n",
      "    \n",
      "    Return S centered in a string of length width. Padding is\n",
      "    done using the specified fill character (default is a space)\n",
      "\n"
     ]
    }
   ],
   "source": [
    "help(s.center)"
   ]
  },
  {
   "cell_type": "code",
   "execution_count": 78,
   "metadata": {},
   "outputs": [
    {
     "name": "stdout",
     "output_type": "stream",
     "text": [
      "Help on built-in function partition:\n",
      "\n",
      "partition(...)\n",
      "    S.partition(sep) -> (head, sep, tail)\n",
      "    \n",
      "    Search for the separator sep in S, and return the part before it,\n",
      "    the separator itself, and the part after it.  If the separator is not\n",
      "    found, return S and two empty strings.\n",
      "\n"
     ]
    }
   ],
   "source": [
    "help(s.partition)"
   ]
  },
  {
   "cell_type": "code",
   "execution_count": 75,
   "metadata": {},
   "outputs": [
    {
     "name": "stdout",
     "output_type": "stream",
     "text": [
      "Help on method_descriptor:\n",
      "\n",
      "find(...)\n",
      "    S.find(sub [,start [,end]]) -> int\n",
      "    \n",
      "    Return the lowest index in S where substring sub is found,\n",
      "    such that sub is contained within S[start:end].  Optional\n",
      "    arguments start and end are interpreted as in slice notation.\n",
      "    \n",
      "    Return -1 on failure.\n",
      "\n"
     ]
    }
   ],
   "source": [
    "help(str.find)"
   ]
  },
  {
   "cell_type": "code",
   "execution_count": 72,
   "metadata": {},
   "outputs": [
    {
     "data": {
      "text/plain": [
       "True"
      ]
     },
     "execution_count": 72,
     "metadata": {},
     "output_type": "execute_result"
    }
   ],
   "source": [
    "s.find(\"hola\") < s.find(e1)"
   ]
  },
  {
   "cell_type": "code",
   "execution_count": 71,
   "metadata": {
    "scrolled": true
   },
   "outputs": [
    {
     "data": {
      "text/plain": [
       "[]"
      ]
     },
     "execution_count": 71,
     "metadata": {},
     "output_type": "execute_result"
    }
   ],
   "source": [
    "e2_tree"
   ]
  },
  {
   "cell_type": "code",
   "execution_count": 54,
   "metadata": {},
   "outputs": [
    {
     "data": {
      "text/plain": [
       "nltk.tree.Tree"
      ]
     },
     "execution_count": 54,
     "metadata": {},
     "output_type": "execute_result"
    }
   ],
   "source": [
    "type(e1_tree)"
   ]
  },
  {
   "cell_type": "code",
   "execution_count": 58,
   "metadata": {},
   "outputs": [
    {
     "data": {
      "text/plain": [
       "True"
      ]
     },
     "execution_count": 58,
     "metadata": {},
     "output_type": "execute_result"
    }
   ],
   "source": [
    "is_node_in_parent(e2_tree, \"acid\")"
   ]
  },
  {
   "cell_type": "code",
   "execution_count": 36,
   "metadata": {
    "scrolled": true
   },
   "outputs": [
    {
     "data": {
      "text/plain": [
       "[Tree('resorcinol', ['or', Tree('acid', ['salicylic'])])]"
      ]
     },
     "execution_count": 36,
     "metadata": {},
     "output_type": "execute_result"
    }
   ],
   "source": [
    "tree.subtrees(filter=lambda t: t.label()==\"resorcinol\")\n"
   ]
  },
  {
   "cell_type": "code",
   "execution_count": 28,
   "metadata": {},
   "outputs": [
    {
     "name": "stdout",
     "output_type": "stream",
     "text": [
      "(exercised\n",
      "  Caution\n",
      "  should\n",
      "  be\n",
      "  (combining\n",
      "    when\n",
      "    (resorcinol or (acid salicylic))\n",
      "    (Gel with DIFFERIN)))\n",
      "(combining when (resorcinol or (acid salicylic)) (Gel with DIFFERIN))\n",
      "(resorcinol or (acid salicylic))\n",
      "(acid salicylic)\n",
      "(Gel with DIFFERIN)\n"
     ]
    }
   ],
   "source": [
    "for subtree in tree.subtrees():\n",
    "    a"
   ]
  },
  {
   "cell_type": "code",
   "execution_count": 59,
   "metadata": {},
   "outputs": [
    {
     "data": {
      "image/png": "[encoded data removed]",
      "text/plain": [
       "Tree('resorcinol', ['or', Tree('acid', ['salicylic'])])"
      ]
     },
     "execution_count": 59,
     "metadata": {},
     "output_type": "execute_result"
    }
   ],
   "source": [
    "e2_tree"
   ]
  },
  {
   "cell_type": "code",
   "execution_count": 50,
   "metadata": {},
   "outputs": [],
   "source": [
    " # Returns the key corresponding to the entity in the analysis dependency graph                                                                                                          \n",
    "def get_entity_node_key(entity, analysis):                                                                                                                                              \n",
    "    for key in list(analysis.nodes.keys())[1:]:                                                                                                                                        \n",
    "        if analysis.nodes[key]['start'] == int(entity[0]):                                                                                                                              \n",
    "            return key                                                                                                                                                                  \n",
    "                                                                                                                                                                                         \n",
    "    return 0                                                                                                                                                                            \n",
    "                                                                                                                                                                                         \n",
    " # Checks if the input word (belonging to a node) is a parent of the input parent                                                                                                        \n",
    " #       NOM EN MINUSCULA                                                                                                                                                                \n",
    "def is_node_in_parent(parent, word):                                                                                                                                                    \n",
    "    for node in parent:                                                                                                                                                                 \n",
    "        if type(node) is nltk.Tree:                                                                                                                                                     \n",
    "            if node.label() == word:                                                                                                                                                    \n",
    "                return True                                                                                                                                                             \n",
    "            if is_node_in_parent(node, word):                                                                                                                                              \n",
    "                return True                                                                                                                                                             \n",
    "        else:                                                                                                                                                                           \n",
    "            if node == word:                                                                                                                                                            \n",
    "                 return True                                                                                                                                                             \n",
    "    return False                          "
   ]
  },
  {
   "cell_type": "code",
   "execution_count": null,
   "metadata": {},
   "outputs": [],
   "source": [
    "is_node_in_parent()"
   ]
  }
 ],
 "metadata": {
  "kernelspec": {
   "display_name": "Python 3",
   "language": "python",
   "name": "python3"
  },
  "language_info": {
   "codemirror_mode": {
    "name": "ipython",
    "version": 2
   },
   "file_extension": ".py",
   "mimetype": "text/x-python",
   "name": "python",
   "nbconvert_exporter": "python",
   "pygments_lexer": "ipython2",
   "version": "2.7.15"
  }
 },
 "nbformat": 4,
 "nbformat_minor": 2
}

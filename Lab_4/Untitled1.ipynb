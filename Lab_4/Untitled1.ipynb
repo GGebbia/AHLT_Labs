{
 "cells": [
  {
   "cell_type": "code",
   "execution_count": 105,
   "metadata": {},
   "outputs": [],
   "source": [
    "import os\n",
    "import pycrfsuite\n",
    "import argparse\n",
    "from itertools import chain\n",
    "from sklearn.metrics import classification_report, confusion_matrix\n",
    "from sklearn.preprocessing import LabelBinarizer\n",
    "\n",
    "\n",
    "def split_data(features):\n",
    "    \"\"\"\n",
    "    Receive a list of featured sentences splitted by words and split it into samples and labels.\n",
    "\n",
    "    Parameters:\n",
    "    word_features(list): List of feature words. There is an empty element between sentences in order to split each one.\n",
    "\n",
    "    Returns:\n",
    "    X_samples(list): List of feature words missing the label of the word.\n",
    "    Y_labels(list): List of labels for each word.\n",
    "    \"\"\"\n",
    "\n",
    "    X_samples = []\n",
    "    Y_labels = []\n",
    "\n",
    "    for feat in features:\n",
    "        feat = feat.split(\" \")\n",
    "        Y_labels.append([feat[0]])\n",
    "        X_samples.append([feat[1:]])\n",
    "\n",
    "    return X_samples, Y_labels\n",
    "\n",
    "\n",
    "def output_predicted_entities(Y_pred, filename):\n",
    "    \"\"\"\n",
    "    Receives the predicted list of labels by the ML model and a filename of the detailed word features and construct predicted.txt file\n",
    "    with the intrinsic details of each word, id, offsets and the predicted label.\n",
    "\n",
    "    Parameters:\n",
    "    Y_pred(list): List of list of predicted labels for each word.\n",
    "    filename(str): filename to read the \"feats.dat\" data of the testing dataset\n",
    "\n",
    "    Returns:\n",
    "\n",
    "    \"\"\"\n",
    "\n",
    "    Y_pred_flatten = [el for line in Y_pred for el in line]\n",
    "    detailed_word_features = open(filename).read().split(\"\\n\")[:-1]\n",
    "\n",
    "    for label, detailed_feats in zip(Y_pred_flatten, detailed_word_features):\n",
    "        _id, e1_id, e2_id = detailed_feats.split(\" \")[0:3]\n",
    "        if label == \"null\":\n",
    "            interaction = \"0\"\n",
    "        else:\n",
    "            interaction = \"1\"\n",
    "        line = [_id, e1_id, e2_id, interaction, label]\n",
    "        outputfile.write(\"|\".join(line) + \"\\n\")\n",
    "        \n",
    "def evaluate(inputdir, outputfile):\n",
    "    \"\"\"\n",
    "    Receives an input directory and the outputfile to evaluate the predicted labels with the evaluateNER.jar program.\n",
    "\n",
    "    Parameters:\n",
    "    inputdir(str):\n",
    "    outputfile(str):\n",
    "\n",
    "    Returns:\n",
    "\n",
    "    \"\"\"\n",
    "\n",
    "    os.system(\"java -jar eval/evaluateDIR.jar \" + inputdir + \" \" + outputfile)\n"
   ]
  },
  {
   "cell_type": "code",
   "execution_count": 106,
   "metadata": {},
   "outputs": [],
   "source": [
    "train_filename = \"megam.dat\"\n",
    "test_filename = \"megam.dat\"\n"
   ]
  },
  {
   "cell_type": "code",
   "execution_count": 107,
   "metadata": {},
   "outputs": [],
   "source": [
    "output_filename = \"predicted.txt\"\n",
    "model_filename = \"model.crfsuite\""
   ]
  },
  {
   "cell_type": "code",
   "execution_count": 108,
   "metadata": {},
   "outputs": [],
   "source": [
    "train_samples = open(train_filename, \"r\").read().split(\"\\n\")[:-1]\n",
    "test_samples = open(test_filename, \"r\").read().split(\"\\n\")[:-1]"
   ]
  },
  {
   "cell_type": "code",
   "execution_count": 109,
   "metadata": {},
   "outputs": [],
   "source": [
    "X_train, Y_train = split_data(train_samples)\n",
    "X_test, Y_test = split_data(test_samples)"
   ]
  },
  {
   "cell_type": "code",
   "execution_count": 110,
   "metadata": {},
   "outputs": [
    {
     "data": {
      "text/plain": [
       "<contextlib.closing at 0x7f4cee8d0550>"
      ]
     },
     "execution_count": 110,
     "metadata": {},
     "output_type": "execute_result"
    }
   ],
   "source": [
    "trainer = pycrfsuite.Trainer(verbose=False)\n",
    "\n",
    "for xseq, yseq in zip(X_train, Y_train):\n",
    "    trainer.append(xseq, yseq)\n",
    "\n",
    "trainer.set_params({\n",
    "    'c1': 0.05,  # coefficient for L1 penalty\n",
    "    'c2': 0.1,  # coefficient for L2 penalty 1e-1 0.61\n",
    "    'max_iterations': 10000,  # stop earlier\n",
    "\n",
    "    # include transitions that are possible, but not observed\n",
    "    'feature.possible_transitions': True\n",
    "})\n",
    "\n",
    "trainer.train(model_filename)\n",
    "\n",
    "tagger = pycrfsuite.Tagger()\n",
    "tagger.open(model_filename)\n"
   ]
  },
  {
   "cell_type": "code",
   "execution_count": 111,
   "metadata": {},
   "outputs": [],
   "source": [
    "outputfile = open(\"predicted.txt\", \"w\")\n",
    "output_predicted_entities(Y_pred, \"feats.dat\")\n",
    "outputfile.close()"
   ]
  },
  {
   "cell_type": "code",
   "execution_count": 38,
   "metadata": {},
   "outputs": [],
   "source": [
    "Y_pred = [tagger.tag(xseq) for xseq in X_test]"
   ]
  },
  {
   "cell_type": "code",
   "execution_count": 39,
   "metadata": {},
   "outputs": [],
   "source": [
    "def bio_classification_report(y_true, y_pred):\n",
    "    \"\"\"\n",
    "    Classification report for a list of BIO-encoded sequences.\n",
    "    It computes token-level metrics and discards \"O\" labels.\n",
    "    \n",
    "    Note that it requires scikit-learn 0.15+ (or a version from github master)\n",
    "    to calculate averages properly!\n",
    "    \"\"\"\n",
    "    lb = LabelBinarizer()\n",
    "    y_true_combined = lb.fit_transform(list(chain.from_iterable(y_true)))\n",
    "    y_pred_combined = lb.transform(list(chain.from_iterable(y_pred)))\n",
    "        \n",
    "    tagset = set(lb.classes_) - {'O'}\n",
    "    tagset = sorted(tagset, key=lambda tag: tag.split('-', 1)[::-1])\n",
    "    class_indices = {cls: idx for idx, cls in enumerate(lb.classes_)}\n",
    "    \n",
    "    return classification_report(\n",
    "        y_true_combined,\n",
    "        y_pred_combined,\n",
    "        labels = [class_indices[cls] for cls in tagset],\n",
    "        target_names = tagset,\n",
    "    )"
   ]
  },
  {
   "cell_type": "code",
   "execution_count": 40,
   "metadata": {},
   "outputs": [
    {
     "name": "stdout",
     "output_type": "stream",
     "text": [
      "              precision    recall  f1-score   support\n",
      "\n",
      "                   0.00      0.00      0.00         1\n",
      "      advise       0.97      0.89      0.93       119\n",
      "      effect       0.96      0.94      0.95       162\n",
      "         int       1.00      1.00      1.00         2\n",
      "   mechanism       0.94      0.82      0.88       201\n",
      "        null       0.97      0.99      0.98      2219\n",
      "\n",
      "   micro avg       0.97      0.97      0.97      2704\n",
      "   macro avg       0.81      0.77      0.79      2704\n",
      "weighted avg       0.97      0.97      0.97      2704\n",
      " samples avg       0.97      0.97      0.97      2704\n",
      "\n"
     ]
    }
   ],
   "source": [
    "print(bio_classification_report(Y_test, Y_pred))"
   ]
  },
  {
   "cell_type": "code",
   "execution_count": 12,
   "metadata": {},
   "outputs": [
    {
     "ename": "ValueError",
     "evalue": "The numbers of items and labels differ: |x| = 31, |y| = 4",
     "output_type": "error",
     "traceback": [
      "\u001b[0;31m---------------------------------------------------------------------------\u001b[0m",
      "\u001b[0;31mValueError\u001b[0m                                Traceback (most recent call last)",
      "\u001b[0;32m<ipython-input-12-de6822ec09a6>\u001b[0m in \u001b[0;36m<module>\u001b[0;34m()\u001b[0m\n\u001b[1;32m      3\u001b[0m \u001b[0;34m\u001b[0m\u001b[0m\n\u001b[1;32m      4\u001b[0m \u001b[0;32mfor\u001b[0m \u001b[0mxseq\u001b[0m\u001b[0;34m,\u001b[0m \u001b[0myseq\u001b[0m \u001b[0;32min\u001b[0m \u001b[0mzip\u001b[0m\u001b[0;34m(\u001b[0m\u001b[0mX_train\u001b[0m\u001b[0;34m,\u001b[0m \u001b[0mY_train\u001b[0m\u001b[0;34m)\u001b[0m\u001b[0;34m:\u001b[0m\u001b[0;34m\u001b[0m\u001b[0m\n\u001b[0;32m----> 5\u001b[0;31m     \u001b[0mtrainer\u001b[0m\u001b[0;34m.\u001b[0m\u001b[0mappend\u001b[0m\u001b[0;34m(\u001b[0m\u001b[0mxseq\u001b[0m\u001b[0;34m,\u001b[0m \u001b[0myseq\u001b[0m\u001b[0;34m)\u001b[0m\u001b[0;34m\u001b[0m\u001b[0m\n\u001b[0m\u001b[1;32m      6\u001b[0m \u001b[0;34m\u001b[0m\u001b[0m\n\u001b[1;32m      7\u001b[0m trainer.set_params({\n",
      "\u001b[0;32mpycrfsuite/_pycrfsuite.pyx\u001b[0m in \u001b[0;36mpycrfsuite._pycrfsuite.BaseTrainer.append\u001b[0;34m()\u001b[0m\n",
      "\u001b[0;31mValueError\u001b[0m: The numbers of items and labels differ: |x| = 31, |y| = 4"
     ]
    }
   ],
   "source": [
    "\n",
    "trainer = pycrfsuite.Trainer(verbose=True)\n",
    "\n",
    "for xseq, yseq in zip(X_train, Y_train):\n",
    "    trainer.append(xseq, yseq)\n",
    "\n",
    "trainer.set_params({\n",
    "    'c1': 0.05,  # coefficient for L1 penalty\n",
    "    'c2': 0.1,  # coefficient for L2 penalty 1e-1 0.61\n",
    "    'max_iterations': 10000,  # stop earlier\n",
    "\n",
    "    # include transitions that are possible, but not observed\n",
    "    'feature.possible_transitions': True\n",
    "})\n",
    "\n",
    "trainer.train(model_filename)\n",
    "\n",
    "tagger = pycrfsuite.Tagger()\n",
    "tagger.open(model_filename)\n",
    "\n",
    "Y_pred = [tagger.tag(xseq) for xseq in X_test]\n",
    "\n",
    "outputfile = open(output_filename, \"w\")\n",
    "output_predicted_entities(Y_pred, fulltest_filename)\n",
    "outputfile.close()\n",
    "\n",
    "evaluate(inputdir, output_filename)\n"
   ]
  },
  {
   "cell_type": "code",
   "execution_count": 50,
   "metadata": {},
   "outputs": [
    {
     "data": {
      "text/plain": [
       "2704"
      ]
     },
     "execution_count": 50,
     "metadata": {},
     "output_type": "execute_result"
    }
   ],
   "source": [
    "Y_pred_flatten = [el for line in Y_pred for el in line]\n",
    "len(Y_pred_flatten)"
   ]
  },
  {
   "cell_type": "code",
   "execution_count": 51,
   "metadata": {},
   "outputs": [
    {
     "data": {
      "text/plain": [
       "2704"
      ]
     },
     "execution_count": 51,
     "metadata": {},
     "output_type": "execute_result"
    }
   ],
   "source": [
    "detailed_word_features = open(\"feats.dat\").read().split(\"\\n\")\n",
    "len(detailed_word_features)"
   ]
  },
  {
   "cell_type": "code",
   "execution_count": null,
   "metadata": {},
   "outputs": [],
   "source": [
    "\n",
    "\n",
    "\n",
    "Y_pred_flatten = [el for line in Y_pred for el in line]\n",
    "detailed_word_features = open(filename).read().split(\"\\n\")\n",
    "\n",
    "for label, detailed_feats in zip(Y_pred_flatten, detailed_word_features):\n",
    "    _id, e1_id, e2_id = detailed_feats.split(\" \")[0:3]\n",
    "    if label == \"null\":\n",
    "        interaction = \"0\"\n",
    "    else:\n",
    "        interaction = \"1\"\n",
    "    line = [_id, e1_id, e2_id, interaction, label]\n",
    "    outputfile.write(\"|\".join(line) + \"\\n\")\n"
   ]
  }
 ],
 "metadata": {
  "kernelspec": {
   "display_name": "Python 3",
   "language": "python",
   "name": "python3"
  },
  "language_info": {
   "codemirror_mode": {
    "name": "ipython",
    "version": 2
   },
   "file_extension": ".py",
   "mimetype": "text/x-python",
   "name": "python",
   "nbconvert_exporter": "python",
   "pygments_lexer": "ipython2",
   "version": "2.7.15"
  }
 },
 "nbformat": 4,
 "nbformat_minor": 2
}
